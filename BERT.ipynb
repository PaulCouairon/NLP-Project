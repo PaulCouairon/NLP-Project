{
 "cells": [
  {
   "cell_type": "markdown",
   "metadata": {},
   "source": [
    "# DistilBERT"
   ]
  },
  {
   "cell_type": "markdown",
   "metadata": {},
   "source": [
    "On utilise le modèle DistilBERT de la library HuggingFace. "
   ]
  },
  {
   "cell_type": "code",
   "execution_count": 69,
   "metadata": {},
   "outputs": [],
   "source": [
    "import pandas as pd\n",
    "import numpy as np\n",
    "from transformers import DistilBertTokenizer, DistilBertForSequenceClassification\n",
    "import torch\n",
    "import matplotlib.pyplot as plt\n",
    "import tensorflow as tf\n",
    "import seaborn as sns\n",
    "import matplotlib.gridspec as gridspec\n",
    "from matplotlib.gridspec import  GridSpec"
   ]
  },
  {
   "cell_type": "markdown",
   "metadata": {},
   "source": [
    "## Preprocessing \n",
    "On la nettoie rapidement des valeurs manquantes, on nettoie le texte (on décontracte les contractions, on enlève les symboles ...)"
   ]
  },
  {
   "cell_type": "code",
   "execution_count": 5,
   "metadata": {},
   "outputs": [],
   "source": [
    "df = pd.read_csv(\"ManifestoUK2.csv\", encoding = \"latin1\")\n",
    "df = df.drop(columns = [\"Unnamed: 0\", \"eu_code\",\"pos\"])\n",
    "\n",
    "#Nous enlevons les NaN et les cmp_code dont la valeur est H\n",
    "df = df[df[\"cmp_code\"] == df[\"cmp_code\"]]\n",
    "df = df[df[\"cmp_code\"] != \"H\"]\n",
    "df = df[df[\"cmp_code\"] != '000'].reset_index(drop = True)\n",
    "\n",
    "# Nous enlevons les cmp_code qui ne sont pas des strings\n",
    "index = []\n",
    "\n",
    "for i in range(np.shape(df)[0]):\n",
    "    if type(df[\"text\"][i]) != str:\n",
    "        index.append(i)\n",
    "        \n",
    "df = df.drop(index).reset_index(drop = True)\n",
    "df['category_1'] = df[\"cmp_code\"].apply(lambda x: int(x[0]))\n",
    "\n",
    "# nombre de classes\n",
    "nb_lab = len(df.category_1.unique())\n",
    "\n",
    "# On nettoie un peu le texte avant d'implémenter le model\n",
    "from bs4 import BeautifulSoup\n",
    "import unicodedata\n",
    "import re \n",
    "\n",
    "def remove_accented_chars(text):\n",
    "    text = unicodedata.normalize('NFKD', text).encode('ascii', 'ignore').decode('utf-8', 'ignore')\n",
    "    return text\n",
    "\n",
    "def decontracted(phrase):\n",
    "    # specific\n",
    "    phrase = re.sub(r\"won\\'t\", \"will not\", phrase)\n",
    "    phrase = re.sub(r\"can\\'t\", \"can not\", phrase)\n",
    "    phrase = re.sub(r\"its\", \"it is\", phrase)\n",
    "    # general\n",
    "    phrase = re.sub(r\"n\\'t\", \" not\", phrase)\n",
    "    phrase = re.sub(r\"\\'re\", \" are\", phrase)\n",
    "    phrase = re.sub(r\"\\'s\", \" is\", phrase)\n",
    "    phrase = re.sub(r\"\\'d\", \" would\", phrase)\n",
    "    phrase = re.sub(r\"\\'ll\", \" will\", phrase)\n",
    "    phrase = re.sub(r\"\\'t\", \" not\", phrase)\n",
    "    phrase = re.sub(r\"\\'ve\", \" have\", phrase)\n",
    "    phrase = re.sub(r\"\\'m\", \" am\", phrase)\n",
    "    return phrase\n",
    "\n",
    "def remove_special_characters(text, remove_digits=False):\n",
    "    pattern = r'[^a-zA-Z0-9\\s]' if not remove_digits else r'[^a-zA-Z\\s]'\n",
    "    text = re.sub(pattern, '', text)\n",
    "    return text\n",
    "\n",
    "def pre_process_document(document):\n",
    "    document = document.lower()\n",
    "    document = remove_accented_chars(document)   \n",
    "    document = decontracted(document)     \n",
    "    special_char_pattern = re.compile(r'([{.(-)!}])')\n",
    "    document = special_char_pattern.sub(\" \\\\1 \", document)\n",
    "    document = remove_special_characters(document, remove_digits=True)  \n",
    "    document = re.sub(' +', ' ', document)\n",
    "    document = document.strip()\n",
    "    return document\n",
    "\n",
    "pre_process_corpus = np.vectorize(pre_process_document)\n",
    "\n",
    "df['text'] = pre_process_corpus(df.text)"
   ]
  },
  {
   "cell_type": "markdown",
   "metadata": {},
   "source": [
    "## Tokenization avec DistilBERT"
   ]
  },
  {
   "cell_type": "markdown",
   "metadata": {},
   "source": [
    "Nous commençons par déterminer la longueur maximale des phrases du texte, ce qui est nécessaire afin de tokenizer avec DistilBERT. Chaque embedding a une taille fixe, celle correspondant à la phrase la plus longue de la base. "
   ]
  },
  {
   "cell_type": "code",
   "execution_count": 6,
   "metadata": {},
   "outputs": [
    {
     "name": "stdout",
     "output_type": "stream",
     "text": [
      "Max sentence length:  119\n"
     ]
    }
   ],
   "source": [
    "tokenizer = DistilBertTokenizer.from_pretrained('distilbert-base-uncased', do_lower_case=True)\n",
    "\n",
    "sentences = df.text.values\n",
    "labels_init = df.category_1.values\n",
    "#On fait démarer les classes à 0 dans le modèle (on a 7 classes de 0 à 6)\n",
    "labels_init = labels_init-1\n",
    "\n",
    "max_len = 0\n",
    "for sent in sentences:\n",
    "    # Tokenize the text and add `[CLS]` and `[SEP]` tokens.\n",
    "    input_ids = tokenizer.encode(sent, add_special_tokens=True)\n",
    "    # Update the maximum sentence length.\n",
    "    max_len = max(max_len, len(input_ids))\n",
    "    \n",
    "\n",
    "print('Max sentence length: ', max_len)"
   ]
  },
  {
   "cell_type": "markdown",
   "metadata": {},
   "source": [
    "Nous tokenisons, et nous récupérons deux vecteurs: les inputs_ids (les embeddings) et les attention_masks (utile pour comprendre quels sont les embeddings qui sont nécessaires pour comprendre le sens de la phrase)."
   ]
  },
  {
   "cell_type": "code",
   "execution_count": 7,
   "metadata": {},
   "outputs": [],
   "source": [
    "input_ids = []\n",
    "attention_masks = []\n",
    "for sent in sentences:\n",
    "    encoded_dict = tokenizer.encode_plus(\n",
    "                        sent,                      # Sentence to encode.\n",
    "                        add_special_tokens = True, # Add '[CLS]' and '[SEP]'\n",
    "                        max_length = 120,           # Pad & truncate all sentences.\n",
    "                        pad_to_max_length = True,\n",
    "                        return_attention_mask = True,   # Construct attn. masks.\n",
    "                        return_tensors = 'pt',     # Return pytorch tensors.\n",
    "                   )\n",
    "    \n",
    "    # Add the encoded sentence to the list.    \n",
    "    input_ids.append(encoded_dict['input_ids'])\n",
    "    # And its attention mask (simply differentiates padding from non-padding).\n",
    "    attention_masks.append(encoded_dict['attention_mask'])"
   ]
  },
  {
   "cell_type": "code",
   "execution_count": 8,
   "metadata": {},
   "outputs": [],
   "source": [
    "l_init = labels_init.tolist()\n",
    "labels_init_tensor = torch.tensor(l_init)\n",
    "\n",
    "ii = []\n",
    "for j in range(len(input_ids)):\n",
    "    ii.append(input_ids[j].tolist()[0])\n",
    "    \n",
    "input_ids_tensor = torch.tensor(ii)\n",
    "\n",
    "aa = []\n",
    "for j in range(len(attention_masks)):\n",
    "    aa.append(attention_masks[j].tolist()[0])\n",
    "    \n",
    "attention_masks_tensor = torch.tensor(aa)"
   ]
  },
  {
   "cell_type": "code",
   "execution_count": 9,
   "metadata": {},
   "outputs": [],
   "source": [
    "input_ids_tensor = input_ids_tensor.numpy()\n",
    "labels_init_tensor = labels_init_tensor.numpy()\n",
    "attention_masks_tensor = attention_masks_tensor.numpy()"
   ]
  },
  {
   "cell_type": "code",
   "execution_count": 11,
   "metadata": {},
   "outputs": [],
   "source": [
    "input_ids_list=[]\n",
    "for i in range(len(input_ids)):\n",
    "    input_ids_list.append(input_ids[i].tolist()[0])"
   ]
  },
  {
   "cell_type": "code",
   "execution_count": 12,
   "metadata": {},
   "outputs": [
    {
     "data": {
      "text/html": [
       "<div>\n",
       "<style scoped>\n",
       "    .dataframe tbody tr th:only-of-type {\n",
       "        vertical-align: middle;\n",
       "    }\n",
       "\n",
       "    .dataframe tbody tr th {\n",
       "        vertical-align: top;\n",
       "    }\n",
       "\n",
       "    .dataframe thead th {\n",
       "        text-align: right;\n",
       "    }\n",
       "</style>\n",
       "<table border=\"1\" class=\"dataframe\">\n",
       "  <thead>\n",
       "    <tr style=\"text-align: right;\">\n",
       "      <th></th>\n",
       "      <th>text</th>\n",
       "      <th>cmp_code</th>\n",
       "      <th>category_1</th>\n",
       "      <th>embeddings</th>\n",
       "    </tr>\n",
       "  </thead>\n",
       "  <tbody>\n",
       "    <tr>\n",
       "      <th>0</th>\n",
       "      <td>we face three connected crises healing the pla...</td>\n",
       "      <td>416</td>\n",
       "      <td>4</td>\n",
       "      <td>[101, 2057, 2227, 2093, 4198, 25332, 8907, 199...</td>\n",
       "    </tr>\n",
       "    <tr>\n",
       "      <th>1</th>\n",
       "      <td>creating a more equal society reversing the tr...</td>\n",
       "      <td>503</td>\n",
       "      <td>5</td>\n",
       "      <td>[101, 4526, 1037, 2062, 5020, 2554, 7065, 2545...</td>\n",
       "    </tr>\n",
       "    <tr>\n",
       "      <th>2</th>\n",
       "      <td>creating truly democratic central and local go...</td>\n",
       "      <td>202</td>\n",
       "      <td>2</td>\n",
       "      <td>[101, 4526, 5621, 3537, 2430, 1998, 2334, 2231...</td>\n",
       "    </tr>\n",
       "    <tr>\n",
       "      <th>3</th>\n",
       "      <td>to help heal the planet we will make achieving...</td>\n",
       "      <td>501</td>\n",
       "      <td>5</td>\n",
       "      <td>[101, 2000, 2393, 11005, 1996, 4774, 2057, 209...</td>\n",
       "    </tr>\n",
       "    <tr>\n",
       "      <th>4</th>\n",
       "      <td>invest in an billion public programme of renew...</td>\n",
       "      <td>501</td>\n",
       "      <td>5</td>\n",
       "      <td>[101, 15697, 1999, 2019, 4551, 2270, 4746, 199...</td>\n",
       "    </tr>\n",
       "    <tr>\n",
       "      <th>...</th>\n",
       "      <td>...</td>\n",
       "      <td>...</td>\n",
       "      <td>...</td>\n",
       "      <td>...</td>\n",
       "    </tr>\n",
       "    <tr>\n",
       "      <th>21662</th>\n",
       "      <td>ukip will end the use of council procurement c...</td>\n",
       "      <td>303</td>\n",
       "      <td>3</td>\n",
       "      <td>[101, 2866, 11514, 2097, 2203, 1996, 2224, 199...</td>\n",
       "    </tr>\n",
       "    <tr>\n",
       "      <th>21663</th>\n",
       "      <td>staff should stick within agreed budgets</td>\n",
       "      <td>303</td>\n",
       "      <td>3</td>\n",
       "      <td>[101, 3095, 2323, 6293, 2306, 3530, 26178, 102...</td>\n",
       "    </tr>\n",
       "    <tr>\n",
       "      <th>21664</th>\n",
       "      <td>ukip will review the many statutory duties pla...</td>\n",
       "      <td>303</td>\n",
       "      <td>3</td>\n",
       "      <td>[101, 2866, 11514, 2097, 3319, 1996, 2116, 152...</td>\n",
       "    </tr>\n",
       "    <tr>\n",
       "      <th>21665</th>\n",
       "      <td>councils should only be doing what they do bes...</td>\n",
       "      <td>303</td>\n",
       "      <td>3</td>\n",
       "      <td>[101, 10784, 2323, 2069, 2022, 2725, 2054, 202...</td>\n",
       "    </tr>\n",
       "    <tr>\n",
       "      <th>21666</th>\n",
       "      <td>ukip the party with local common sense costcut...</td>\n",
       "      <td>303</td>\n",
       "      <td>3</td>\n",
       "      <td>[101, 2866, 11514, 1996, 2283, 2007, 2334, 269...</td>\n",
       "    </tr>\n",
       "  </tbody>\n",
       "</table>\n",
       "<p>21667 rows × 4 columns</p>\n",
       "</div>"
      ],
      "text/plain": [
       "                                                    text cmp_code  category_1  \\\n",
       "0      we face three connected crises healing the pla...      416           4   \n",
       "1      creating a more equal society reversing the tr...      503           5   \n",
       "2      creating truly democratic central and local go...      202           2   \n",
       "3      to help heal the planet we will make achieving...      501           5   \n",
       "4      invest in an billion public programme of renew...      501           5   \n",
       "...                                                  ...      ...         ...   \n",
       "21662  ukip will end the use of council procurement c...      303           3   \n",
       "21663           staff should stick within agreed budgets      303           3   \n",
       "21664  ukip will review the many statutory duties pla...      303           3   \n",
       "21665  councils should only be doing what they do bes...      303           3   \n",
       "21666  ukip the party with local common sense costcut...      303           3   \n",
       "\n",
       "                                              embeddings  \n",
       "0      [101, 2057, 2227, 2093, 4198, 25332, 8907, 199...  \n",
       "1      [101, 4526, 1037, 2062, 5020, 2554, 7065, 2545...  \n",
       "2      [101, 4526, 5621, 3537, 2430, 1998, 2334, 2231...  \n",
       "3      [101, 2000, 2393, 11005, 1996, 4774, 2057, 209...  \n",
       "4      [101, 15697, 1999, 2019, 4551, 2270, 4746, 199...  \n",
       "...                                                  ...  \n",
       "21662  [101, 2866, 11514, 2097, 2203, 1996, 2224, 199...  \n",
       "21663  [101, 3095, 2323, 6293, 2306, 3530, 26178, 102...  \n",
       "21664  [101, 2866, 11514, 2097, 3319, 1996, 2116, 152...  \n",
       "21665  [101, 10784, 2323, 2069, 2022, 2725, 2054, 202...  \n",
       "21666  [101, 2866, 11514, 1996, 2283, 2007, 2334, 269...  \n",
       "\n",
       "[21667 rows x 4 columns]"
      ]
     },
     "execution_count": 12,
     "metadata": {},
     "output_type": "execute_result"
    }
   ],
   "source": [
    "df['embeddings'] = input_ids_list\n",
    "df"
   ]
  },
  {
   "cell_type": "markdown",
   "metadata": {},
   "source": [
    "## Séparation Train / Test"
   ]
  },
  {
   "cell_type": "code",
   "execution_count": 13,
   "metadata": {},
   "outputs": [
    {
     "name": "stdout",
     "output_type": "stream",
     "text": [
      "19,500 training samples\n",
      "2,167 validation samples\n"
     ]
    }
   ],
   "source": [
    "from sklearn.model_selection import train_test_split\n",
    "train_size = int(0.9 * len(df))\n",
    "val_size = len(df) - train_size\n",
    "\n",
    "inputs_train, inputs_test, labels_train, labels_test, attention_masks_train, attention_masks_test = train_test_split(input_ids_tensor, labels_init_tensor, attention_masks_tensor, test_size = val_size, random_state = 42)\n",
    "\n",
    "print('{:>5,} training samples'.format(train_size))\n",
    "print('{:>5,} validation samples'.format(val_size))"
   ]
  },
  {
   "cell_type": "code",
   "execution_count": 14,
   "metadata": {},
   "outputs": [
    {
     "name": "stdout",
     "output_type": "stream",
     "text": [
      "[  101  2008  2003  2339  1996  4104  2231  2405 12014 10340  2008  2052\n",
      "  2562  3885  1999  1996  2309  3006  2130  2004  2057  2187  1996  7327\n",
      "   102     0     0     0     0     0     0     0     0     0     0     0\n",
      "     0     0     0     0     0     0     0     0     0     0     0     0\n",
      "     0     0     0     0     0     0     0     0     0     0     0     0\n",
      "     0     0     0     0     0     0     0     0     0     0     0     0\n",
      "     0     0     0     0     0     0     0     0     0     0     0     0\n",
      "     0     0     0     0     0     0     0     0     0     0     0     0\n",
      "     0     0     0     0     0     0     0     0     0     0     0     0\n",
      "     0     0     0     0     0     0     0     0     0     0     0     0]\n",
      "0\n",
      "[1 1 1 1 1 1 1 1 1 1 1 1 1 1 1 1 1 1 1 1 1 1 1 1 1 0 0 0 0 0 0 0 0 0 0 0 0\n",
      " 0 0 0 0 0 0 0 0 0 0 0 0 0 0 0 0 0 0 0 0 0 0 0 0 0 0 0 0 0 0 0 0 0 0 0 0 0\n",
      " 0 0 0 0 0 0 0 0 0 0 0 0 0 0 0 0 0 0 0 0 0 0 0 0 0 0 0 0 0 0 0 0 0 0 0 0 0\n",
      " 0 0 0 0 0 0 0 0 0]\n"
     ]
    }
   ],
   "source": [
    "print(inputs_train[0])\n",
    "print(labels_train[0])\n",
    "print(attention_masks_train[0])"
   ]
  },
  {
   "cell_type": "markdown",
   "metadata": {},
   "source": [
    "### Implémentation de DistilBertForSequenceClassification"
   ]
  },
  {
   "cell_type": "code",
   "execution_count": 10,
   "metadata": {},
   "outputs": [],
   "source": [
    "model = DistilBertForSequenceClassification.from_pretrained('distilbert-base-uncased', num_labels = nb_lab)"
   ]
  },
  {
   "cell_type": "code",
   "execution_count": 15,
   "metadata": {},
   "outputs": [],
   "source": [
    "inputs_train, inputs_test, labels_train, labels_test, attention_masks_train, attention_masks_test = torch.tensor(inputs_train), torch.tensor(inputs_test), torch.tensor(labels_train), torch.tensor(labels_test), torch.tensor(attention_masks_train), torch.tensor(attention_masks_test)"
   ]
  },
  {
   "cell_type": "markdown",
   "metadata": {},
   "source": [
    "On créer un torch DataLoader (un itérateur) pour notre base de données, afin d'économiser de la mémoire pendant le training"
   ]
  },
  {
   "cell_type": "code",
   "execution_count": 87,
   "metadata": {},
   "outputs": [],
   "source": [
    "from torch.utils.data import TensorDataset, DataLoader, RandomSampler, SequentialSampler\n",
    "batch_size = 32 \n",
    "\n",
    "train_data = TensorDataset(inputs_train, attention_masks_train, labels_train)\n",
    "train_sampler = RandomSampler(train_data)\n",
    "train_dataloader = DataLoader(train_data, sampler=train_sampler, batch_size=batch_size)\n",
    "\n",
    "validation_data = TensorDataset(inputs_test, attention_masks_test, labels_test)\n",
    "validation_sampler = SequentialSampler(validation_data)\n",
    "validation_dataloader = DataLoader(validation_data, sampler=validation_sampler, batch_size=batch_size)"
   ]
  },
  {
   "cell_type": "code",
   "execution_count": 20,
   "metadata": {},
   "outputs": [],
   "source": [
    "from transformers import AdamW\n",
    "from transformers import get_linear_schedule_with_warmup\n",
    "\n",
    "lr = 2e-5\n",
    "max_grad_norm = 1.0\n",
    "num_total_steps = 1000\n",
    "num_warmup_steps = 100\n",
    "warmup_proportion = float(num_warmup_steps) / float(num_total_steps)  # 0.1\n",
    "\n",
    "\n",
    "optimizer = AdamW(model.parameters(), lr=lr, correct_bias=False)  \n",
    "scheduler = get_linear_schedule_with_warmup(optimizer, \n",
    "                                            num_warmup_steps = num_warmup_steps, \n",
    "                                            num_training_steps = num_total_steps)"
   ]
  },
  {
   "cell_type": "markdown",
   "metadata": {},
   "source": [
    "On fine-tune ce modèle pour une époque car le temps d'éxécution est trop long "
   ]
  },
  {
   "cell_type": "code",
   "execution_count": 96,
   "metadata": {},
   "outputs": [
    {
     "name": "stdout",
     "output_type": "stream",
     "text": [
      "\n",
      "======== Epoch 1 / 1 ========\n",
      "Training...\n",
      "  Batch    50  of  1,219.    Elapsed: 0:06:42.\n",
      "  Batch   100  of  1,219.    Elapsed: 0:13:08.\n",
      "  Batch   150  of  1,219.    Elapsed: 0:19:33.\n",
      "  Batch   200  of  1,219.    Elapsed: 0:27:34.\n",
      "  Batch   250  of  1,219.    Elapsed: 0:34:42.\n",
      "  Batch   300  of  1,219.    Elapsed: 0:42:04.\n",
      "  Batch   350  of  1,219.    Elapsed: 0:49:44.\n",
      "  Batch   400  of  1,219.    Elapsed: 0:57:07.\n",
      "  Batch   450  of  1,219.    Elapsed: 1:04:32.\n",
      "  Batch   500  of  1,219.    Elapsed: 1:11:53.\n",
      "  Batch   550  of  1,219.    Elapsed: 1:20:08.\n",
      "  Batch   600  of  1,219.    Elapsed: 1:27:39.\n",
      "  Batch   650  of  1,219.    Elapsed: 1:34:13.\n",
      "  Batch   700  of  1,219.    Elapsed: 1:41:04.\n",
      "  Batch   750  of  1,219.    Elapsed: 1:48:22.\n",
      "  Batch   800  of  1,219.    Elapsed: 1:55:49.\n",
      "  Batch   850  of  1,219.    Elapsed: 2:03:24.\n",
      "  Batch   900  of  1,219.    Elapsed: 2:11:44.\n",
      "  Batch   950  of  1,219.    Elapsed: 2:19:59.\n",
      "  Batch 1,000  of  1,219.    Elapsed: 2:28:20.\n",
      "  Batch 1,050  of  1,219.    Elapsed: 2:35:45.\n",
      "  Batch 1,100  of  1,219.    Elapsed: 2:55:41.\n",
      "  Batch 1,150  of  1,219.    Elapsed: 3:08:48.\n",
      "  Batch 1,200  of  1,219.    Elapsed: 3:34:46.\n",
      "\n",
      "  Average training loss: 0.91\n",
      "  Training epcoh took: 3:46:30\n",
      "\n",
      "Running Validation...\n",
      "  Accuracy: 0.70\n",
      "  Validation Loss: 0.86\n",
      "  Validation took: 0:09:15\n",
      "\n",
      "Training complete!\n",
      "Total training took 3:55:45 (h:mm:ss)\n"
     ]
    }
   ],
   "source": [
    "import numpy as np\n",
    "\n",
    "# Function to calculate the accuracy of our predictions vs labels\n",
    "def flat_accuracy(preds, labels):\n",
    "    pred_flat = np.argmax(preds, axis=1).flatten()\n",
    "    labels_flat = labels.flatten()\n",
    "    return np.sum(pred_flat == labels_flat) / len(labels_flat)\n",
    "\n",
    "import time\n",
    "import datetime\n",
    "\n",
    "def format_time(elapsed):\n",
    "    '''\n",
    "    Takes a time in seconds and returns a string hh:mm:ss\n",
    "    '''\n",
    "    # Round to the nearest second.\n",
    "    elapsed_rounded = int(round((elapsed)))\n",
    "    \n",
    "    # Format as hh:mm:ss\n",
    "    return str(datetime.timedelta(seconds=elapsed_rounded))\n",
    "\n",
    "\n",
    "import random\n",
    "import numpy as np\n",
    "seed_val = 42\n",
    "\n",
    "random.seed(seed_val)\n",
    "np.random.seed(seed_val)\n",
    "torch.manual_seed(seed_val)\n",
    "torch.cuda.manual_seed_all(seed_val)\n",
    "training_stats = []\n",
    "total_t0 = time.time()\n",
    "epochs = 1\n",
    "\n",
    "for epoch_i in range(0, epochs):\n",
    "    print(\"\")\n",
    "    print('======== Epoch {:} / {:} ========'.format(epoch_i + 1, epochs))\n",
    "    print('Training...')\n",
    "    t0 = time.time()\n",
    "    total_train_loss = 0\n",
    "    model.train()\n",
    "    for step, batch in enumerate(train_dataloader):\n",
    "        if step % 50 == 0 and not step == 0:\n",
    "            elapsed = format_time(time.time() - t0)\n",
    "            print('  Batch {:>5,}  of  {:>5,}.    Elapsed: {:}.'.format(step, len(train_dataloader), elapsed))\n",
    "        b_input_ids = batch[0]\n",
    "        b_input_mask = batch[1]\n",
    "        b_labels = batch[2]\n",
    "        model.zero_grad()        \n",
    "        loss, logits = model(b_input_ids, \n",
    "                             attention_mask=b_input_mask, \n",
    "                             labels=b_labels)\n",
    "        total_train_loss += loss.item()\n",
    "        loss.backward()\n",
    "        torch.nn.utils.clip_grad_norm_(model.parameters(), 1.0)\n",
    "        optimizer.step()\n",
    "        scheduler.step()\n",
    "    avg_train_loss = total_train_loss / len(train_dataloader)    \n",
    "    training_time = format_time(time.time() - t0)\n",
    "    print(\"\")\n",
    "    print(\"  Average training loss: {0:.2f}\".format(avg_train_loss))\n",
    "    print(\"  Training epcoh took: {:}\".format(training_time))\n",
    "    print(\"\")\n",
    "    print(\"Running Validation...\")\n",
    "    t0 = time.time()\n",
    "    model.eval()\n",
    "    total_eval_accuracy = 0\n",
    "    total_eval_loss = 0\n",
    "    nb_eval_steps = 0\n",
    "    for batch in validation_dataloader:\n",
    "        b_input_ids = batch[0]\n",
    "        b_input_mask = batch[1]\n",
    "        b_labels = batch[2]\n",
    "        with torch.no_grad():        \n",
    "            (loss, logits) = model(b_input_ids, \n",
    "                                   attention_mask=b_input_mask,\n",
    "                                   labels=b_labels)\n",
    "        total_eval_loss += loss.item()\n",
    "        logits = logits.detach().numpy()\n",
    "        label_ids = b_labels.numpy()\n",
    "        total_eval_accuracy += flat_accuracy(logits, label_ids)\n",
    "    avg_val_accuracy = total_eval_accuracy / len(validation_dataloader)\n",
    "    print(\"  Accuracy: {0:.2f}\".format(avg_val_accuracy))\n",
    "    avg_val_loss = total_eval_loss / len(validation_dataloader)\n",
    "    validation_time = format_time(time.time() - t0)\n",
    "    print(\"  Validation Loss: {0:.2f}\".format(avg_val_loss))\n",
    "    print(\"  Validation took: {:}\".format(validation_time))\n",
    "    training_stats.append(\n",
    "        {\n",
    "            'epoch': epoch_i + 1,\n",
    "            'Training Loss': avg_train_loss,\n",
    "            'Valid. Loss': avg_val_loss,\n",
    "            'Valid. Accur.': avg_val_accuracy,\n",
    "            'Training Time': training_time,\n",
    "            'Validation Time': validation_time\n",
    "        }\n",
    "    )\n",
    "\n",
    "print(\"\")\n",
    "print(\"Training complete!\")\n",
    "\n",
    "print(\"Total training took {:} (h:mm:ss)\".format(format_time(time.time()-total_t0)))\n",
    "\n",
    "torch.save(model.state_dict(),'model1.h5')"
   ]
  },
  {
   "cell_type": "code",
   "execution_count": 29,
   "metadata": {},
   "outputs": [],
   "source": [
    "torch.save(model,'model1bis.h5')\n",
    "MODEL = torch.load('model1bis.h5')"
   ]
  },
  {
   "cell_type": "code",
   "execution_count": 16,
   "metadata": {},
   "outputs": [],
   "source": [
    "MODEL = torch.load('model1bis.h5')"
   ]
  },
  {
   "cell_type": "markdown",
   "metadata": {},
   "source": [
    "## Analyses des erreurs et des performances du modèle"
   ]
  },
  {
   "cell_type": "code",
   "execution_count": 17,
   "metadata": {},
   "outputs": [],
   "source": [
    "#Le modèle nous renvoie des probabilités pour chaque classe\n",
    "#Le label prédit est donc celui ayant la plus grande probabilité\n",
    "\n",
    "with torch.no_grad():\n",
    "    last_hidden_states = MODEL(inputs_test,attention_mask = attention_masks_test)\n",
    "logits = last_hidden_states[0].numpy()"
   ]
  },
  {
   "cell_type": "code",
   "execution_count": 19,
   "metadata": {},
   "outputs": [],
   "source": [
    "log_probs = tf.nn.log_softmax(logits, axis=-1) \n",
    "probs = np.exp(log_probs)"
   ]
  },
  {
   "cell_type": "code",
   "execution_count": 20,
   "metadata": {},
   "outputs": [],
   "source": [
    "probs = probs.tolist()\n",
    "labels_pred = []\n",
    "labels_pred_scd = [] # On récupère la seconde plus grande probabilité \n",
    "valeur_prob=[]   # On récupère les valeurs des probabilités\n",
    "valeur_scd_prob = [] \n",
    "for i in range(len(probs)):\n",
    "    p=probs[i]\n",
    "    ind=p.index(max(p))\n",
    "    labels_pred.append(ind)\n",
    "    valeur_prob.append(max(p))\n",
    "    p[ind]=0\n",
    "    labels_pred_scd.append(p.index(max(p)))\n",
    "    valeur_scd_prob.append(max(p))\n",
    "    "
   ]
  },
  {
   "cell_type": "code",
   "execution_count": 21,
   "metadata": {},
   "outputs": [],
   "source": [
    "# On recupère les phrases de la base test à partir de leur embeddings\n",
    "L = list(df['embeddings'])\n",
    "M = inputs_test.tolist()\n",
    "sentences_test=[]\n",
    "index_test=[]\n",
    "for i in range(len(M)):\n",
    "    index_test.append(L.index(M[i]))\n",
    "for j in index_test:\n",
    "    sentences_test.append(df.text[j])"
   ]
  },
  {
   "cell_type": "code",
   "execution_count": 22,
   "metadata": {},
   "outputs": [],
   "source": [
    "y_pred = labels_pred\n",
    "scd_y_pred = labels_pred_scd\n",
    "y_true = []\n",
    "for i in index_test:\n",
    "    y_true.append(df.category_1[i]-1)"
   ]
  },
  {
   "cell_type": "code",
   "execution_count": 24,
   "metadata": {},
   "outputs": [],
   "source": [
    "# On crée une base test\n",
    "base_test = pd.DataFrame({'text': sentences_test,'embedding':inputs_test.tolist(), 'y_true': y_true, 'y_pred': y_pred,'scd_y_pred':labels_pred_scd,'valeur_prob_pred':valeur_prob,'valeur_scd_prob_pred':valeur_scd_prob})"
   ]
  },
  {
   "cell_type": "code",
   "execution_count": 25,
   "metadata": {},
   "outputs": [
    {
     "data": {
      "text/html": [
       "<div>\n",
       "<style scoped>\n",
       "    .dataframe tbody tr th:only-of-type {\n",
       "        vertical-align: middle;\n",
       "    }\n",
       "\n",
       "    .dataframe tbody tr th {\n",
       "        vertical-align: top;\n",
       "    }\n",
       "\n",
       "    .dataframe thead th {\n",
       "        text-align: right;\n",
       "    }\n",
       "</style>\n",
       "<table border=\"1\" class=\"dataframe\">\n",
       "  <thead>\n",
       "    <tr style=\"text-align: right;\">\n",
       "      <th></th>\n",
       "      <th>text</th>\n",
       "      <th>embedding</th>\n",
       "      <th>y_true</th>\n",
       "      <th>y_pred</th>\n",
       "      <th>scd_y_pred</th>\n",
       "      <th>valeur_prob_pred</th>\n",
       "      <th>valeur_scd_prob_pred</th>\n",
       "    </tr>\n",
       "  </thead>\n",
       "  <tbody>\n",
       "    <tr>\n",
       "      <th>0</th>\n",
       "      <td>with vision commitment and determination we co...</td>\n",
       "      <td>[101, 2007, 4432, 8426, 1998, 9128, 2057, 2071...</td>\n",
       "      <td>5</td>\n",
       "      <td>5</td>\n",
       "      <td>4</td>\n",
       "      <td>0.623361</td>\n",
       "      <td>0.252469</td>\n",
       "    </tr>\n",
       "    <tr>\n",
       "      <th>1</th>\n",
       "      <td>we will deliver on our commitment to improve n...</td>\n",
       "      <td>[101, 2057, 2097, 8116, 2006, 2256, 8426, 2000...</td>\n",
       "      <td>4</td>\n",
       "      <td>4</td>\n",
       "      <td>3</td>\n",
       "      <td>0.926159</td>\n",
       "      <td>0.042219</td>\n",
       "    </tr>\n",
       "    <tr>\n",
       "      <th>2</th>\n",
       "      <td>we were the first country to introduce a clima...</td>\n",
       "      <td>[101, 2057, 2020, 1996, 2034, 2406, 2000, 8970...</td>\n",
       "      <td>4</td>\n",
       "      <td>4</td>\n",
       "      <td>3</td>\n",
       "      <td>0.949521</td>\n",
       "      <td>0.025769</td>\n",
       "    </tr>\n",
       "    <tr>\n",
       "      <th>3</th>\n",
       "      <td>we will press for comprehensive and understand...</td>\n",
       "      <td>[101, 2057, 2097, 2811, 2005, 7721, 1998, 3305...</td>\n",
       "      <td>4</td>\n",
       "      <td>0</td>\n",
       "      <td>4</td>\n",
       "      <td>0.546814</td>\n",
       "      <td>0.256997</td>\n",
       "    </tr>\n",
       "    <tr>\n",
       "      <th>4</th>\n",
       "      <td>the length of this phased programme will be pl...</td>\n",
       "      <td>[101, 1996, 3091, 1997, 2023, 21718, 4746, 209...</td>\n",
       "      <td>4</td>\n",
       "      <td>4</td>\n",
       "      <td>3</td>\n",
       "      <td>0.492178</td>\n",
       "      <td>0.468349</td>\n",
       "    </tr>\n",
       "    <tr>\n",
       "      <th>...</th>\n",
       "      <td>...</td>\n",
       "      <td>...</td>\n",
       "      <td>...</td>\n",
       "      <td>...</td>\n",
       "      <td>...</td>\n",
       "      <td>...</td>\n",
       "      <td>...</td>\n",
       "    </tr>\n",
       "    <tr>\n",
       "      <th>2162</th>\n",
       "      <td>poor information complex pricing and exploitat...</td>\n",
       "      <td>[101, 3532, 2592, 3375, 20874, 1998, 18077, 80...</td>\n",
       "      <td>3</td>\n",
       "      <td>3</td>\n",
       "      <td>4</td>\n",
       "      <td>0.933326</td>\n",
       "      <td>0.017526</td>\n",
       "    </tr>\n",
       "    <tr>\n",
       "      <th>2163</th>\n",
       "      <td>recognise fully the housing needs of people wh...</td>\n",
       "      <td>[101, 17614, 3929, 1996, 3847, 3791, 1997, 211...</td>\n",
       "      <td>4</td>\n",
       "      <td>4</td>\n",
       "      <td>6</td>\n",
       "      <td>0.910138</td>\n",
       "      <td>0.056337</td>\n",
       "    </tr>\n",
       "    <tr>\n",
       "      <th>2164</th>\n",
       "      <td>an independent commission should be establishe...</td>\n",
       "      <td>[101, 2019, 2981, 3222, 2323, 2022, 2511, 2000...</td>\n",
       "      <td>2</td>\n",
       "      <td>2</td>\n",
       "      <td>4</td>\n",
       "      <td>0.301513</td>\n",
       "      <td>0.287767</td>\n",
       "    </tr>\n",
       "    <tr>\n",
       "      <th>2165</th>\n",
       "      <td>but burning fossil fuels for energy causes cli...</td>\n",
       "      <td>[101, 2021, 5255, 10725, 20145, 2005, 2943, 53...</td>\n",
       "      <td>4</td>\n",
       "      <td>4</td>\n",
       "      <td>3</td>\n",
       "      <td>0.939200</td>\n",
       "      <td>0.039680</td>\n",
       "    </tr>\n",
       "    <tr>\n",
       "      <th>2166</th>\n",
       "      <td>honour in full our commitments to scotland to ...</td>\n",
       "      <td>[101, 6225, 1999, 2440, 2256, 17786, 2000, 388...</td>\n",
       "      <td>2</td>\n",
       "      <td>2</td>\n",
       "      <td>1</td>\n",
       "      <td>0.915722</td>\n",
       "      <td>0.039660</td>\n",
       "    </tr>\n",
       "  </tbody>\n",
       "</table>\n",
       "<p>2167 rows × 7 columns</p>\n",
       "</div>"
      ],
      "text/plain": [
       "                                                   text  \\\n",
       "0     with vision commitment and determination we co...   \n",
       "1     we will deliver on our commitment to improve n...   \n",
       "2     we were the first country to introduce a clima...   \n",
       "3     we will press for comprehensive and understand...   \n",
       "4     the length of this phased programme will be pl...   \n",
       "...                                                 ...   \n",
       "2162  poor information complex pricing and exploitat...   \n",
       "2163  recognise fully the housing needs of people wh...   \n",
       "2164  an independent commission should be establishe...   \n",
       "2165  but burning fossil fuels for energy causes cli...   \n",
       "2166  honour in full our commitments to scotland to ...   \n",
       "\n",
       "                                              embedding  y_true  y_pred  \\\n",
       "0     [101, 2007, 4432, 8426, 1998, 9128, 2057, 2071...       5       5   \n",
       "1     [101, 2057, 2097, 8116, 2006, 2256, 8426, 2000...       4       4   \n",
       "2     [101, 2057, 2020, 1996, 2034, 2406, 2000, 8970...       4       4   \n",
       "3     [101, 2057, 2097, 2811, 2005, 7721, 1998, 3305...       4       0   \n",
       "4     [101, 1996, 3091, 1997, 2023, 21718, 4746, 209...       4       4   \n",
       "...                                                 ...     ...     ...   \n",
       "2162  [101, 3532, 2592, 3375, 20874, 1998, 18077, 80...       3       3   \n",
       "2163  [101, 17614, 3929, 1996, 3847, 3791, 1997, 211...       4       4   \n",
       "2164  [101, 2019, 2981, 3222, 2323, 2022, 2511, 2000...       2       2   \n",
       "2165  [101, 2021, 5255, 10725, 20145, 2005, 2943, 53...       4       4   \n",
       "2166  [101, 6225, 1999, 2440, 2256, 17786, 2000, 388...       2       2   \n",
       "\n",
       "      scd_y_pred  valeur_prob_pred  valeur_scd_prob_pred  \n",
       "0              4          0.623361              0.252469  \n",
       "1              3          0.926159              0.042219  \n",
       "2              3          0.949521              0.025769  \n",
       "3              4          0.546814              0.256997  \n",
       "4              3          0.492178              0.468349  \n",
       "...          ...               ...                   ...  \n",
       "2162           4          0.933326              0.017526  \n",
       "2163           6          0.910138              0.056337  \n",
       "2164           4          0.301513              0.287767  \n",
       "2165           3          0.939200              0.039680  \n",
       "2166           1          0.915722              0.039660  \n",
       "\n",
       "[2167 rows x 7 columns]"
      ]
     },
     "execution_count": 25,
     "metadata": {},
     "output_type": "execute_result"
    }
   ],
   "source": [
    "base_test"
   ]
  },
  {
   "cell_type": "code",
   "execution_count": 26,
   "metadata": {},
   "outputs": [
    {
     "name": "stdout",
     "output_type": "stream",
     "text": [
      "L'accuracy sur la base test est :0.6691278264882325\n"
     ]
    }
   ],
   "source": [
    "#On vérifie que l'accuracy calculée est bonne sur la base test\n",
    "c = 0\n",
    "for i in range(len(base_test)):\n",
    "    if base_test.y_true[i]==base_test.y_pred[i]:\n",
    "        c+=1\n",
    "\n",
    "print('L\\'accuracy sur la base test est:' +str(c/len(base_test)))"
   ]
  },
  {
   "cell_type": "code",
   "execution_count": 27,
   "metadata": {},
   "outputs": [],
   "source": [
    "# Nous recensons les erreurs commises\n",
    "index_err=[]\n",
    "emb_err=[]\n",
    "text_err=[]\n",
    "proba_err=[]\n",
    "for i in range(len(base_test)):\n",
    "    if base_test.y_true[i]!=base_test.y_pred[i]:\n",
    "        index_err.append(i)\n",
    "        emb_err.append(base_test.embedding[i])\n",
    "        text_err.append(base_test.text[i])\n",
    "        proba_err.append(base_test.valeur_prob_pred[i])\n",
    "\n",
    "nb_err= len(index_err)"
   ]
  },
  {
   "cell_type": "code",
   "execution_count": 73,
   "metadata": {},
   "outputs": [
    {
     "data": {
      "image/png": "[encoded data removed]",
      "text/plain": [
       "<Figure size 432x288 with 1 Axes>"
      ]
     },
     "metadata": {},
     "output_type": "display_data"
    }
   ],
   "source": [
    "# Nous nous intéressons aux valeurs des probabilités renvoyé par le modèle, pour les labels prédits\n",
    "bins = 10\n",
    "plt.hist([base_test.valeur_prob_pred.values, proba_err], bins = bins, color = ['Firebrick', 'forestgreen'],\n",
    "            label = ['Ensemble de la base test', 'Erreurs de la base test '],\n",
    "            histtype = 'bar') # bar est le defaut\n",
    "#plt.ylabel('nombres')\n",
    "plt.xlabel('Probabilités estimées')\n",
    "plt.ylabel('Nombre de phrases')\n",
    "plt.legend()\n",
    "plt.grid(True)\n",
    "plt.savefig(\"Repartition_des_probas.pdf\")"
   ]
  },
  {
   "cell_type": "markdown",
   "metadata": {},
   "source": [
    "Nous avons essayé de voir si la valeur de la probabilité du label prédit renvoyé par le modèle pouvait nous dire quelque chose sur la fiabilité du résultat. On voit sur graphique que lorsque l'on a une probabilité de 0.3 ou 0.4, on a de forte chance que le modèle se soit trompé de labels. En revanche, on voit que quelques soit la valeur de la probabilité, le modèle a des chances de se tromper. On ne peut pas vraiment identifier de règle quand à la véracité du label prédit compte tenu de la probabilité renvoyé par le modèle. "
   ]
  },
  {
   "cell_type": "markdown",
   "metadata": {},
   "source": [
    "Intéréssons nous aux secondes plus grandes valeurs des probabilités renvoyé par le modèle, lorsque le label prédit par le modèle est faux."
   ]
  },
  {
   "cell_type": "code",
   "execution_count": 29,
   "metadata": {},
   "outputs": [
    {
     "name": "stdout",
     "output_type": "stream",
     "text": [
      "Lorsque le prédicteur ne prédit pas le bon label (ie lorsque la plus grande probabilité renvoyé par le modèle ne correspond pas au vrai label), il ne se trompe pas en considérant la seconde plus grande proba avec un taux de  :0.5801952580195258\n"
     ]
    }
   ],
   "source": [
    "# On recense les erreurs comises lorsqu'on considère les deuxièmes plus grande probabilités, dans les cas ou le modèle ne \n",
    "# prédit pas le bon label\n",
    "cbis=0\n",
    "ind_scd_err_faux=[]\n",
    "ind_scd_err_vrai=[]\n",
    "for i in range(len(base_test)):\n",
    "    if base_test.y_true[i]!=base_test.y_pred[i]:\n",
    "        if base_test.scd_y_pred[i]==base_test.y_true[i]:\n",
    "            cbis+=1\n",
    "            ind_scd_err_vrai.append(i)\n",
    "        else:\n",
    "            ind_scd_err_faux.append(i)\n",
    "        \n",
    "print('Lorsque le prédicteur ne prédit pas le bon label (ie lorsque la plus grande probabilité renvoyé par le modèle ne correspond pas au vrai label), il ne se trompe pas en considérant la seconde plus grande proba avec un taux de:' +str(cbis/nb_err))"
   ]
  },
  {
   "cell_type": "code",
   "execution_count": 30,
   "metadata": {},
   "outputs": [
    {
     "name": "stdout",
     "output_type": "stream",
     "text": [
      "L'accuracy sur la base test en considerant les deux plus grandes proba est :0.8610982925703737\n"
     ]
    }
   ],
   "source": [
    "acc_2_proba = 0\n",
    "for i in range(len(base_test)):\n",
    "    if base_test.y_pred[i] == base_test.y_true[i]:\n",
    "        acc_2_proba+=1\n",
    "    else:\n",
    "        if base_test.scd_y_pred[i] == base_test.y_true[i]:\n",
    "            acc_2_proba+=1\n",
    "\n",
    "\n",
    "print('L\\'accuracy sur la base test en considerant les deux plus grandes proba est:' +str(acc_2_proba/len(base_test)))"
   ]
  },
  {
   "cell_type": "markdown",
   "metadata": {},
   "source": [
    "On s'intérèsse maintenant aux répartitions des erreurs comises"
   ]
  },
  {
   "cell_type": "code",
   "execution_count": 31,
   "metadata": {},
   "outputs": [],
   "source": [
    "prop_classe_mal_pred = {'0':0, '1':0, '2':0, '3':0, '4':0,'5':0,'6':0}\n",
    "prop_classe = {'0':0, '1':0, '2':0, '3':0, '4':0,'5':0,'6':0}\n",
    "\n",
    "for i in range(len(base_test)):\n",
    "    if base_test.y_true[i]!=base_test.y_pred[i]:\n",
    "        prop_classe_mal_pred[str(base_test.y_true[i])]+=1\n",
    "        \n",
    "for i in range(len(base_test)):\n",
    "        prop_classe[str(base_test.y_true[i])]+=1\n",
    "\n",
    "prop = {'0':0, '1':0, '2':0, '3':0, '4':0,'5':0,'6':0}\n",
    "for i in range(7):\n",
    "    prop[str(i)] = round(prop_classe_mal_pred[str(i)]/prop_classe[str(i)],2)"
   ]
  },
  {
   "cell_type": "code",
   "execution_count": 32,
   "metadata": {},
   "outputs": [],
   "source": [
    "prop_vrai_lab = {'1':prop['0'], '2':prop['1'], '3':prop['2'], '4':prop['3'], '5':prop['4'],'6':prop['5'],'7':prop['6']}"
   ]
  },
  {
   "cell_type": "code",
   "execution_count": 74,
   "metadata": {},
   "outputs": [
    {
     "data": {
      "image/png": "[encoded data removed]",
      "text/plain": [
       "<Figure size 432x288 with 1 Axes>"
      ]
     },
     "metadata": {},
     "output_type": "display_data"
    }
   ],
   "source": [
    "plt.xlabel('Classes')\n",
    "plt.ylabel('Taux d\\'erreur')\n",
    "plt.bar(prop_vrai_lab.keys(), prop.values(), color='g')\n",
    "plt.grid(True)\n",
    "plt.savefig(\"prop_err_par_classe.pdf\")"
   ]
  },
  {
   "cell_type": "markdown",
   "metadata": {},
   "source": [
    "On voit que la modèle se trompe presque 1 fois sur 2 lorsqu'il doit prédir la classe 3 ou 7. C'est avec la classe 5 qu'il se trompe le moins."
   ]
  },
  {
   "cell_type": "markdown",
   "metadata": {},
   "source": [
    "Pour chaque classe, on regarde ce que le modèle prédit lorsqu'il se trompe"
   ]
  },
  {
   "cell_type": "code",
   "execution_count": 34,
   "metadata": {},
   "outputs": [],
   "source": [
    "prop0 = {'1':0, '2':0, '3':0, '4':0, '5':0,'6':0,'7':0}\n",
    "prop1 = {'1':0, '2':0, '3':0, '4':0, '5':0,'6':0,'7':0}\n",
    "prop2 = {'1':0, '2':0, '3':0, '4':0, '5':0,'6':0,'7':0}\n",
    "prop3 = {'1':0, '2':0, '3':0, '4':0, '5':0,'6':0,'7':0}\n",
    "prop4 = {'1':0, '2':0, '3':0, '4':0, '5':0,'6':0,'7':0}\n",
    "prop5 = {'1':0, '2':0, '3':0, '4':0, '5':0,'6':0,'7':0}\n",
    "prop6 = {'1':0, '2':0, '3':0, '4':0, '5':0,'6':0,'7':0}\n",
    "L = [prop0,prop1,prop2,prop3,prop4,prop5,prop6]\n",
    "for i in range(len(base_test)):\n",
    "    if base_test.y_true[i]!=base_test.y_pred[i]:\n",
    "        L[base_test.y_true[i]][str(base_test.y_pred[i]+1)]+=1"
   ]
  },
  {
   "cell_type": "code",
   "execution_count": 72,
   "metadata": {},
   "outputs": [
    {
     "data": {
      "image/png": "[encoded data removed]",
      "text/plain": [
       "<Figure size 2880x2160 with 7 Axes>"
      ]
     },
     "metadata": {},
     "output_type": "display_data"
    }
   ],
   "source": [
    "\n",
    "# Initialize the grid with 3 rows and 3 columns\n",
    "ncols = 4\n",
    "nrows = 4\n",
    "gs = gridspec.GridSpec(4, 4)\n",
    "fig = plt.figure(0,figsize=(40,30))\n",
    "fig.clf()\n",
    "\n",
    "# Add axes which can span multiple grid boxes\n",
    "ax1 = plt.subplot(gs[0, 0:2])\n",
    "ax2 = plt.subplot(gs[0,2:])\n",
    "ax3 = plt.subplot(gs[1,0:2])\n",
    "ax4 = plt.subplot(gs[1,2:])\n",
    "ax5 = plt.subplot(gs[2,0:2])\n",
    "ax6 = plt.subplot(gs[2,2:])\n",
    "ax7 = plt.subplot(gs[3,1:3])\n",
    "\n",
    "sns.set()\n",
    "\n",
    "ax1.bar(L[0].keys(), L[0].values(), color='forestgreen')\n",
    "ax1.set_title('Répartition des erreurs pour la classe 1',fontsize=30)\n",
    "ax1.tick_params(axis = 'both', which = 'major', labelsize = 24)\n",
    "ax1.set_ylabel('Nombre d\\'erreurs',fontsize=20)\n",
    "ax1.grid(True)\n",
    "ax2.bar(L[1].keys(), L[1].values(), color='forestgreen')\n",
    "ax2.set_title('Répartition des erreurs pour la classe 2',fontsize=30)\n",
    "ax2.tick_params(axis = 'both', which = 'major', labelsize = 24)\n",
    "ax2.set_ylabel('Nombre d\\'erreurs',fontsize=20)\n",
    "ax2.grid(True)\n",
    "ax3.bar(L[2].keys(), L[2].values(), color='forestgreen')\n",
    "ax3.set_title('Répartition des erreurs pour la classe 3',fontsize=30)\n",
    "ax3.tick_params(axis = 'both', which = 'major', labelsize = 24)\n",
    "ax3.set_ylabel('Nombre d\\'erreurs',fontsize=20)\n",
    "ax3.grid(True)\n",
    "ax4.bar(L[3].keys(), L[3].values(), color='forestgreen')\n",
    "ax4.set_title('Répartition des erreurs pour la classe 4',fontsize=30)\n",
    "ax4.tick_params(axis = 'both', which = 'major', labelsize = 24)\n",
    "ax4.set_ylabel('Nombre d\\'erreurs',fontsize=20)\n",
    "ax4.grid(True)\n",
    "ax5.bar(L[4].keys(), L[4].values(), color='forestgreen')\n",
    "ax5.set_title('Répartition des erreurs pour la classe 5',fontsize=30)\n",
    "ax5.tick_params(axis = 'both', which = 'major', labelsize = 24)\n",
    "ax5.set_ylabel('Nombre d\\'erreurs',fontsize=20)\n",
    "ax5.grid(True)\n",
    "ax6.bar(L[5].keys(), L[5].values(), color='forestgreen')\n",
    "ax6.set_title('Répartition des erreurs pour la classe 6',fontsize=30)\n",
    "ax6.tick_params(axis = 'both', which = 'major', labelsize = 24)\n",
    "ax6.set_ylabel('Nombre d\\'erreurs',fontsize=20)\n",
    "ax6.grid(True)\n",
    "ax7.bar(L[6].keys(), L[6].values(), color='forestgreen')\n",
    "ax7.set_title('Répartition des erreurs pour la classe 7',fontsize=30)\n",
    "ax7.tick_params(axis = 'both', which = 'major', labelsize = 24)\n",
    "ax7.set_ylabel('Nombre d\\'erreurs',fontsize=20)\n",
    "ax7.grid(True)\n",
    "plt.savefig(\"Repartition_erreur_pour_chaque_classe.pdf\")\n",
    "\n",
    "# Add labels and titles\n",
    "#fig.suptitle('Figure with Subplots')\n",
    "#ax1.set_ylabel('Voltage (V)')\n",
    "#ax3.set_ylabel('Voltage (V)')\n",
    "#ax3.set_xlabel('Time (s)')\n",
    "#ax4.set_xlabel('Time (s)')"
   ]
  },
  {
   "cell_type": "markdown",
   "metadata": {},
   "source": [
    "* Les classe 1,2 et 3 ne sont pas particulièrement confondues avec une autre classe en particulier.\n",
    "\n",
    "* La classe 4 est particulièrement confondue avec la classe 5 et vice-versa.\n",
    "\n",
    "* La classe 6 semble être confondue souvent avec la classe 5, mais il reste un bon nombre d'erreur qui sont associés a d'autre classe.\n",
    "\n",
    "* La classe 7 est particulièrement confondue avec la classe 5 mais l'inverse est faux. \n"
   ]
  },
  {
   "cell_type": "markdown",
   "metadata": {},
   "source": [
    "### Mesures sur le modele"
   ]
  },
  {
   "cell_type": "code",
   "execution_count": 884,
   "metadata": {},
   "outputs": [
    {
     "name": "stdout",
     "output_type": "stream",
     "text": [
      "              precision    recall  f1-score   support\n",
      "\n",
      "           1       0.73      0.67      0.70       213\n",
      "           2       0.58      0.62      0.60       120\n",
      "           3       0.57      0.46      0.51       196\n",
      "           4       0.67      0.70      0.68       502\n",
      "           5       0.72      0.77      0.75       750\n",
      "           6       0.61      0.60      0.61       223\n",
      "           7       0.60      0.49      0.54       163\n",
      "\n",
      "    accuracy                           0.67      2167\n",
      "   macro avg       0.64      0.62      0.63      2167\n",
      "weighted avg       0.67      0.67      0.67      2167\n",
      "\n"
     ]
    },
    {
     "data": {
      "text/plain": [
       "<Figure size 432x288 with 0 Axes>"
      ]
     },
     "metadata": {},
     "output_type": "display_data"
    }
   ],
   "source": [
    "y_true = base_test.y_true.tolist()\n",
    "y_pred = base_test.y_pred.tolist()\n",
    "Y_true = [y_true[i]+1 for i in range(len(y_true))]\n",
    "Y_pred = [y_pred[i]+1 for i in range(len(y_pred))]\n",
    "from sklearn.metrics import classification_report\n",
    "print(classification_report(Y_true,Y_pred))\n",
    "plt.savefig(\"met.pdf\")"
   ]
  },
  {
   "cell_type": "code",
   "execution_count": 882,
   "metadata": {},
   "outputs": [
    {
     "data": {
      "image/png": "[encoded data removed]",
      "text/plain": [
       "<Figure size 720x360 with 2 Axes>"
      ]
     },
     "metadata": {},
     "output_type": "display_data"
    },
    {
     "data": {
      "text/plain": [
       "<Figure size 432x288 with 0 Axes>"
      ]
     },
     "metadata": {},
     "output_type": "display_data"
    }
   ],
   "source": [
    "from sklearn.metrics import confusion_matrix\n",
    "import seaborn as sns\n",
    "\n",
    "def conf_matrix(y_true, y_pred):\n",
    "    C = confusion_matrix(y_true, y_pred)\n",
    "        \n",
    "    ConfMatrix = C / C.sum(axis=1)[:,None]\n",
    "        \n",
    "    plt.figure(figsize = (10, 5))\n",
    "    ax = sns.heatmap(ConfMatrix, annot=True, cmap=\"Reds\", fmt=\".2f\",\n",
    "                xticklabels = ['1', '2', '3', '4', '5', '6', '7'], \n",
    "                yticklabels = ['1', '2', '3', '4', '5', '6', '7'])\n",
    "    \n",
    "    sns.set()\n",
    "\n",
    "    bottom, top = ax.get_ylim()\n",
    "    ax.set_ylim(bottom, top)\n",
    "\n",
    "    plt.xlabel('Predicted Class', fontsize = 12)\n",
    "    plt.ylabel('True Class', fontsize = 12)\n",
    "    #plt.title(\"Confusion Matrix\", size = 14)\n",
    "    plt.savefig(\"conf_matrix_svc.pdf\")\n",
    "    \n",
    "    return plt.show()\n",
    "\n",
    "conf_matrix(Y_true,Y_pred)\n",
    "\n",
    "plt.savefig(\"MCBERT.pdf\")"
   ]
  },
  {
   "cell_type": "markdown",
   "metadata": {},
   "source": [
    "### Fine-Tuning de BERT pour deux epochs"
   ]
  },
  {
   "cell_type": "code",
   "execution_count": 22,
   "metadata": {},
   "outputs": [
    {
     "name": "stdout",
     "output_type": "stream",
     "text": [
      "\n",
      "======== Epoch 1 / 2 ========\n",
      "Training...\n",
      "  Batch    50  of    610.    Elapsed: 0:13:49.\n",
      "  Batch   100  of    610.    Elapsed: 0:27:08.\n",
      "  Batch   150  of    610.    Elapsed: 0:40:38.\n",
      "  Batch   200  of    610.    Elapsed: 0:54:07.\n",
      "  Batch   250  of    610.    Elapsed: 1:08:22.\n",
      "  Batch   300  of    610.    Elapsed: 1:23:12.\n",
      "  Batch   350  of    610.    Elapsed: 1:37:14.\n",
      "  Batch   400  of    610.    Elapsed: 1:49:27.\n",
      "  Batch   450  of    610.    Elapsed: 1:57:47.\n",
      "  Batch   500  of    610.    Elapsed: 2:06:36.\n",
      "  Batch   550  of    610.    Elapsed: 2:14:54.\n",
      "  Batch   600  of    610.    Elapsed: 2:23:31.\n",
      "\n",
      "  Average training loss: 0.94\n",
      "  Training epcoh took: 2:25:09\n",
      "\n",
      "Running Validation...\n",
      "  Accuracy: 0.67\n",
      "  Validation Loss: 0.93\n",
      "  Validation took: 0:04:07\n",
      "\n",
      "======== Epoch 2 / 2 ========\n",
      "Training...\n",
      "  Batch    50  of    610.    Elapsed: 0:08:51.\n",
      "  Batch   100  of    610.    Elapsed: 0:17:16.\n",
      "  Batch   150  of    610.    Elapsed: 0:25:28.\n",
      "  Batch   200  of    610.    Elapsed: 0:33:37.\n",
      "  Batch   250  of    610.    Elapsed: 0:41:43.\n",
      "  Batch   300  of    610.    Elapsed: 0:49:54.\n",
      "  Batch   350  of    610.    Elapsed: 0:58:01.\n",
      "  Batch   400  of    610.    Elapsed: 1:06:35.\n",
      "  Batch   450  of    610.    Elapsed: 1:14:45.\n",
      "  Batch   500  of    610.    Elapsed: 1:22:47.\n",
      "  Batch   550  of    610.    Elapsed: 1:31:10.\n",
      "  Batch   600  of    610.    Elapsed: 1:38:29.\n",
      "\n",
      "  Average training loss: 0.75\n",
      "  Training epcoh took: 1:39:58\n",
      "\n",
      "Running Validation...\n",
      "  Accuracy: 0.67\n",
      "  Validation Loss: 0.94\n",
      "  Validation took: 0:03:21\n",
      "\n",
      "Training complete!\n",
      "Total training took 4:12:34 (h:mm:ss)\n"
     ]
    }
   ],
   "source": [
    "import numpy as np\n",
    "\n",
    "# Function to calculate the accuracy of our predictions vs labels\n",
    "def flat_accuracy(preds, labels):\n",
    "    pred_flat = np.argmax(preds, axis=1).flatten()\n",
    "    labels_flat = labels.flatten()\n",
    "    return np.sum(pred_flat == labels_flat) / len(labels_flat)\n",
    "\n",
    "import time\n",
    "import datetime\n",
    "\n",
    "def format_time(elapsed):\n",
    "    '''\n",
    "    Takes a time in seconds and returns a string hh:mm:ss\n",
    "    '''\n",
    "    # Round to the nearest second.\n",
    "    elapsed_rounded = int(round((elapsed)))\n",
    "    \n",
    "    # Format as hh:mm:ss\n",
    "    return str(datetime.timedelta(seconds=elapsed_rounded))\n",
    "\n",
    "\n",
    "import random\n",
    "import numpy as np\n",
    "seed_val = 42\n",
    "\n",
    "random.seed(seed_val)\n",
    "np.random.seed(seed_val)\n",
    "torch.manual_seed(seed_val)\n",
    "torch.cuda.manual_seed_all(seed_val)\n",
    "training_stats = []\n",
    "total_t0 = time.time()\n",
    "epochs = 2\n",
    "\n",
    "for epoch_i in range(0, epochs):\n",
    "    print(\"\")\n",
    "    print('======== Epoch {:} / {:} ========'.format(epoch_i + 1, epochs))\n",
    "    print('Training...')\n",
    "    t0 = time.time()\n",
    "    total_train_loss = 0\n",
    "    model.train()\n",
    "    for step, batch in enumerate(train_dataloader):\n",
    "        if step % 50 == 0 and not step == 0:\n",
    "            elapsed = format_time(time.time() - t0)\n",
    "            print('  Batch {:>5,}  of  {:>5,}.    Elapsed: {:}.'.format(step, len(train_dataloader), elapsed))\n",
    "        b_input_ids = batch[0]\n",
    "        b_input_mask = batch[1]\n",
    "        b_labels = batch[2]\n",
    "        model.zero_grad()        \n",
    "        loss, logits = model(b_input_ids, \n",
    "                             attention_mask=b_input_mask, \n",
    "                             labels=b_labels)\n",
    "        total_train_loss += loss.item()\n",
    "        loss.backward()\n",
    "        torch.nn.utils.clip_grad_norm_(model.parameters(), 1.0)\n",
    "        optimizer.step()\n",
    "        scheduler.step()\n",
    "    avg_train_loss = total_train_loss / len(train_dataloader)    \n",
    "    training_time = format_time(time.time() - t0)\n",
    "    print(\"\")\n",
    "    print(\"  Average training loss: {0:.2f}\".format(avg_train_loss))\n",
    "    print(\"  Training epcoh took: {:}\".format(training_time))\n",
    "    print(\"\")\n",
    "    print(\"Running Validation...\")\n",
    "    t0 = time.time()\n",
    "    model.eval()\n",
    "    total_eval_accuracy = 0\n",
    "    total_eval_loss = 0\n",
    "    nb_eval_steps = 0\n",
    "    for batch in validation_dataloader:\n",
    "        b_input_ids = batch[0]\n",
    "        b_input_mask = batch[1]\n",
    "        b_labels = batch[2]\n",
    "        with torch.no_grad():        \n",
    "            (loss, logits) = model(b_input_ids, \n",
    "                                   attention_mask=b_input_mask,\n",
    "                                   labels=b_labels)\n",
    "        total_eval_loss += loss.item()\n",
    "        logits = logits.detach().numpy()\n",
    "        label_ids = b_labels.numpy()\n",
    "        total_eval_accuracy += flat_accuracy(logits, label_ids)\n",
    "    avg_val_accuracy = total_eval_accuracy / len(validation_dataloader)\n",
    "    print(\"  Accuracy: {0:.2f}\".format(avg_val_accuracy))\n",
    "    avg_val_loss = total_eval_loss / len(validation_dataloader)\n",
    "    validation_time = format_time(time.time() - t0)\n",
    "    print(\"  Validation Loss: {0:.2f}\".format(avg_val_loss))\n",
    "    print(\"  Validation took: {:}\".format(validation_time))\n",
    "    training_stats.append(\n",
    "        {\n",
    "            'epoch': epoch_i + 1,\n",
    "            'Training Loss': avg_train_loss,\n",
    "            'Valid. Loss': avg_val_loss,\n",
    "            'Valid. Accur.': avg_val_accuracy,\n",
    "            'Training Time': training_time,\n",
    "            'Validation Time': validation_time\n",
    "        }\n",
    "    )\n",
    "\n",
    "print(\"\")\n",
    "print(\"Training complete!\")\n",
    "\n",
    "print(\"Total training took {:} (h:mm:ss)\".format(format_time(time.time()-total_t0)))\n",
    "\n",
    "torch.save(model.state_dict(),'model2.h5')"
   ]
  },
  {
   "source": [
    "Le résultat obtenu ne change pas"
   ],
   "cell_type": "markdown",
   "metadata": {}
  }
 ],
 "metadata": {
  "kernelspec": {
   "display_name": "Python 3",
   "language": "python",
   "name": "python3"
  },
  "language_info": {
   "codemirror_mode": {
    "name": "ipython",
    "version": 3
   },
   "file_extension": ".py",
   "mimetype": "text/x-python",
   "name": "python",
   "nbconvert_exporter": "python",
   "pygments_lexer": "ipython3",
   "version": "3.7.6"
  }
 },
 "nbformat": 4,
 "nbformat_minor": 4
}